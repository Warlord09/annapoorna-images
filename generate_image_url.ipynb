{
 "cells": [
  {
   "cell_type": "code",
   "execution_count": 1,
   "id": "d67778f3",
   "metadata": {},
   "outputs": [
    {
     "name": "stdout",
     "output_type": "stream",
     "text": [
      "Looking in indexes: https://pypi.org/simple, https://pypi.ngc.nvidia.com\n",
      "Requirement already satisfied: requests in c:\\users\\asus\\appdata\\local\\programs\\python\\python310\\lib\\site-packages (2.28.2)\n",
      "Requirement already satisfied: charset-normalizer<4,>=2 in c:\\users\\asus\\appdata\\local\\programs\\python\\python310\\lib\\site-packages (from requests) (3.1.0)\n",
      "Requirement already satisfied: idna<4,>=2.5 in c:\\users\\asus\\appdata\\local\\programs\\python\\python310\\lib\\site-packages (from requests) (3.4)\n",
      "Requirement already satisfied: urllib3<1.27,>=1.21.1 in c:\\users\\asus\\appdata\\local\\programs\\python\\python310\\lib\\site-packages (from requests) (1.26.14)\n",
      "Requirement already satisfied: certifi>=2017.4.17 in c:\\users\\asus\\appdata\\local\\programs\\python\\python310\\lib\\site-packages (from requests) (2022.12.7)\n",
      "Note: you may need to restart the kernel to use updated packages.\n"
     ]
    }
   ],
   "source": [
    "pip install requests\n"
   ]
  },
  {
   "cell_type": "code",
   "execution_count": 1,
   "id": "99319828",
   "metadata": {},
   "outputs": [
    {
     "name": "stdout",
     "output_type": "stream",
     "text": [
      "Filename: Almond crunch/1.png, Raw URL: https://raw.githubusercontent.com/Warlord09/annapoorna-images/main/Almond crunch/1.png\n",
      "Filename: blueberry/9.png, Raw URL: https://raw.githubusercontent.com/Warlord09/annapoorna-images/main/blueberry/9.png\n",
      "Filename: cashew crunch/2.png, Raw URL: https://raw.githubusercontent.com/Warlord09/annapoorna-images/main/cashew crunch/2.png\n",
      "Filename: dates roll/8.png, Raw URL: https://raw.githubusercontent.com/Warlord09/annapoorna-images/main/dates roll/8.png\n",
      "Filename: kaju mango roll/11.png, Raw URL: https://raw.githubusercontent.com/Warlord09/annapoorna-images/main/kaju mango roll/11.png\n",
      "Filename: kaju pineapple/12.png, Raw URL: https://raw.githubusercontent.com/Warlord09/annapoorna-images/main/kaju pineapple/12.png\n",
      "Filename: kiwi delight/7.png, Raw URL: https://raw.githubusercontent.com/Warlord09/annapoorna-images/main/kiwi delight/7.png\n",
      "Filename: navaratna/10.png, Raw URL: https://raw.githubusercontent.com/Warlord09/annapoorna-images/main/navaratna/10.png\n",
      "Filename: omapodi mixture/6.png, Raw URL: https://raw.githubusercontent.com/Warlord09/annapoorna-images/main/omapodi mixture/6.png\n",
      "Filename: pista crunch/3.png, Raw URL: https://raw.githubusercontent.com/Warlord09/annapoorna-images/main/pista crunch/3.png\n",
      "Filename: strawberry delight/4.png, Raw URL: https://raw.githubusercontent.com/Warlord09/annapoorna-images/main/strawberry delight/4.png\n",
      "Filename: wheat pop/5.png, Raw URL: https://raw.githubusercontent.com/Warlord09/annapoorna-images/main/wheat pop/5.png\n"
     ]
    }
   ],
   "source": [
    "import requests\n",
    "\n",
    "def get_image_urls(repo_owner, repo_name, branch='main'):\n",
    "    # GitHub API URL to list repository contents\n",
    "    api_url = f\"https://api.github.com/repos/{repo_owner}/{repo_name}/git/trees/{branch}?recursive=1\"\n",
    "\n",
    "    # Send a GET request to the API\n",
    "    response = requests.get(api_url)\n",
    "    if response.status_code == 200:\n",
    "        data = response.json()\n",
    "        image_urls = []\n",
    "        for item in data['tree']:\n",
    "            if item['path'].endswith(('.jpg', '.jpeg', '.png')):\n",
    "                # Construct the raw URL\n",
    "                raw_url = f\"https://raw.githubusercontent.com/{repo_owner}/{repo_name}/{branch}/{item['path']}\"\n",
    "                image_urls.append((item['path'], raw_url))\n",
    "        return image_urls\n",
    "    else:\n",
    "        print(\"Failed to fetch repository data\")\n",
    "        return []\n",
    "\n",
    "# Example usage\n",
    "repo_owner = 'Warlord09'  # Replace with the repository owner's username\n",
    "repo_name = 'annapoorna-images'  # Replace with the repository name\n",
    "image_urls = get_image_urls(repo_owner, repo_name)\n",
    "\n",
    "for filename, url in image_urls:\n",
    "    print(f\"Filename: {filename}, Raw URL: {url}\")\n"
   ]
  },
  {
   "cell_type": "code",
   "execution_count": 2,
   "id": "36a7857b",
   "metadata": {},
   "outputs": [
    {
     "name": "stdout",
     "output_type": "stream",
     "text": [
      "Successfully saved image URLs to image_urls.xlsx\n"
     ]
    }
   ],
   "source": [
    "import pandas as pd\n",
    "# Save the URLs to an Excel file\n",
    "output_file = 'image_urls.xlsx'\n",
    "url_filenames = pd.DataFrame(image_urls, columns=['Filename', 'Raw URL'])\n",
    "url_filenames.to_excel(output_file, index=False)\n",
    "\n",
    "print(f\"Successfully saved image URLs to {output_file}\")"
   ]
  },
  {
   "cell_type": "code",
   "execution_count": null,
   "id": "a58a6e6e",
   "metadata": {},
   "outputs": [],
   "source": [
    "#Authentication: If the repository is private, you need to authenticate your requests by adding a personal access token. Modify the request to include headers for authentication:\n",
    "\n",
    "headers = {'Authorization': 'token YOUR_ACCESS_TOKEN'}\n",
    "response = requests.get(api_url, headers=headers)\n"
   ]
  }
 ],
 "metadata": {
  "kernelspec": {
   "display_name": "Python 3 (ipykernel)",
   "language": "python",
   "name": "python3"
  },
  "language_info": {
   "codemirror_mode": {
    "name": "ipython",
    "version": 3
   },
   "file_extension": ".py",
   "mimetype": "text/x-python",
   "name": "python",
   "nbconvert_exporter": "python",
   "pygments_lexer": "ipython3",
   "version": "3.10.5"
  }
 },
 "nbformat": 4,
 "nbformat_minor": 5
}
